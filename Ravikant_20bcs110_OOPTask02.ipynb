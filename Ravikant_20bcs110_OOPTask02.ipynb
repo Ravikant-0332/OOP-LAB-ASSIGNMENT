{
  "nbformat": 4,
  "nbformat_minor": 0,
  "metadata": {
    "colab": {
      "name": "Ravikant_20bcs110_OOPTask02.ipynb",
      "provenance": [],
      "collapsed_sections": []
    },
    "kernelspec": {
      "name": "python3",
      "display_name": "Python 3"
    },
    "language_info": {
      "name": "python"
    }
  },
  "cells": [
    {
      "cell_type": "code",
      "metadata": {
        "colab": {
          "base_uri": "https://localhost:8080/"
        },
        "id": "8X1_k2ebOvum",
        "outputId": "ec9283e6-63d5-45b2-a337-946037ebb49d"
      },
      "source": [
        "# Problem 01\n",
        " \n",
        "from math import pi\n",
        " \n",
        "class Circle:\n",
        "    \"\"\" Class to Find Perimeter and Area of Circle \"\"\"\n",
        "    def __init__(self, radius):\n",
        "        self.radius = radius\n",
        " \n",
        "    def circumference(self):\n",
        "        \"\"\" Finding Circumference \"\"\"\n",
        "        return 2*pi*self.radius\n",
        " \n",
        "    def area(self):\n",
        "        \"\"\" Finding Area \"\"\"\n",
        "        return pi*(self.radius**2)\n",
        " \n",
        "C1 = Circle(15) \n",
        "print(C1.circumference()) \n",
        "print(C1.area())"
      ],
      "execution_count": 1,
      "outputs": [
        {
          "output_type": "stream",
          "name": "stdout",
          "text": [
            "94.24777960769379\n",
            "706.8583470577034\n"
          ]
        }
      ]
    },
    {
      "cell_type": "code",
      "metadata": {
        "id": "eMpvMNHMSQD6",
        "colab": {
          "base_uri": "https://localhost:8080/"
        },
        "outputId": "5c5cc775-4db3-4574-e7e5-a1fd51ee9398"
      },
      "source": [
        "# Problem 02\n",
        " \n",
        "class Faculty:\n",
        "    \"\"\" Class to store Faculty Data \"\"\"\n",
        "    def __init__(self,name,id,branch,salary):\n",
        "        self.Name=name\n",
        "        self.EmpId=id\n",
        "        self.Branch=branch\n",
        "        self.Salary=salary\n",
        " \n",
        "    def addFaculty(self):\n",
        "        self.EmpId = input(\"Enter Employee ID : \")\n",
        "        self.Name = input(\"Enter Employee Name : \")\n",
        "        self.Branch = input(\"Enter Employee Branch : \")\n",
        "        self.Salary = int(input(\"Enter Employee Salary : \"))\n",
        " \n",
        "    def displayFaculty(self):\n",
        "        print(\"Name : \", self.Name) \n",
        "        print(\"ID : \", self.EmpId) \n",
        "        print(\"Branch : \", self.Branch) \n",
        "        print(\"Salary : \", self.Salary)\n",
        "        print()\n",
        "\n",
        "name = [\"Faculty 1\",\"Faculty 2\",\"Faculty 3\",\"Faculty 4\",\"Faculty 5\",\"Faculty 6\",\"Faculty 7\",\"Faculty 8\",\"Faculty 9\",\"Faculty 10\",]\n",
        "emp_id = [\"id_1\",\"id_2\",\"id_3\",\"id_4\",\"id_5\",\"id_6\",\"id_7\",\"id_8\",\"id_9\",\"id_10\",]\n",
        "branch = [\"CSE\",\"DSAI\",\"ECE\",\"Mech\",\"Civil\",\"Chemical\",\"CSE\",\"EEE\",\"CSE\",\"CSE\"]\n",
        "salary = [240000,160000,140000,240000,240000,160000,160000,320000,280000,450000]\n",
        "\n",
        "faculty_list = []\n",
        "\n",
        "for i in range(10):\n",
        "  faculty_list.append(Faculty(name[i],emp_id[i],branch[i],salary[i]))\n",
        "\n",
        "for i in range(10):\n",
        "  faculty_list[i].displayFaculty()"
      ],
      "execution_count": 4,
      "outputs": [
        {
          "output_type": "stream",
          "name": "stdout",
          "text": [
            "Name :  Faculty 1\n",
            "ID :  id_1\n",
            "Branch :  CSE\n",
            "Salary :  240000\n",
            "\n",
            "Name :  Faculty 2\n",
            "ID :  id_2\n",
            "Branch :  DSAI\n",
            "Salary :  160000\n",
            "\n",
            "Name :  Faculty 3\n",
            "ID :  id_3\n",
            "Branch :  ECE\n",
            "Salary :  140000\n",
            "\n",
            "Name :  Faculty 4\n",
            "ID :  id_4\n",
            "Branch :  Mech\n",
            "Salary :  240000\n",
            "\n",
            "Name :  Faculty 5\n",
            "ID :  id_5\n",
            "Branch :  Civil\n",
            "Salary :  240000\n",
            "\n",
            "Name :  Faculty 6\n",
            "ID :  id_6\n",
            "Branch :  Chemical\n",
            "Salary :  160000\n",
            "\n",
            "Name :  Faculty 7\n",
            "ID :  id_7\n",
            "Branch :  CSE\n",
            "Salary :  160000\n",
            "\n",
            "Name :  Faculty 8\n",
            "ID :  id_8\n",
            "Branch :  EEE\n",
            "Salary :  320000\n",
            "\n",
            "Name :  Faculty 9\n",
            "ID :  id_9\n",
            "Branch :  CSE\n",
            "Salary :  280000\n",
            "\n",
            "Name :  Faculty 10\n",
            "ID :  id_10\n",
            "Branch :  CSE\n",
            "Salary :  450000\n",
            "\n"
          ]
        }
      ]
    },
    {
      "cell_type": "code",
      "metadata": {
        "colab": {
          "base_uri": "https://localhost:8080/"
        },
        "id": "PI4SAuGHnp3b",
        "outputId": "6d653c9a-fde4-4f90-91cd-1c8aa599d81a"
      },
      "source": [
        "# Problem 03\n",
        "\n",
        "class account:\n",
        "  def __init__(self,Acc_No,Acc_H_Name,Amount):\n",
        "    self.Acc_No = Acc_No\n",
        "    self.Acc_H_Name = Acc_H_Name\n",
        "    self.Amount = Amount\n",
        "\n",
        "  def deposit(self,amount):\n",
        "    if amount < 0:\n",
        "      print(\"!!! Sorry Invalid Amount !!!\")\n",
        "      return\n",
        "    self.Amount += amount\n",
        "    print(\"!!! Deposit Successfully !!!\")\n",
        "    print(\"Your Current Balance is : \",self.Amount)\n",
        "\n",
        "  def withdraw(self,amount):\n",
        "    if self.Amount < amount:\n",
        "      print(\"!!! Sorry Low Balance !!!\")\n",
        "      return \n",
        "\n",
        "    self.Amount -= amount\n",
        "    print(\"!!! Withdrawal Successfully !!!\")\n",
        "    print(\"Your Current Balance is : \",self.Amount)\n",
        "\n",
        "  def check_balance(self):\n",
        "    print(\"Your Current Balance is : \",self.Amount)\n",
        "\n",
        "  def display_account_details(self):\n",
        "    print(\"Account Number : \",self.Acc_No)\n",
        "    print(\"Account Holder Name : \",self.Acc_H_Name)\n",
        "    print(\"Balance : \",self.Amount)\n",
        "\n",
        "user = account(123456789, \"Ravi\", 12345)\n",
        "user.deposit(500)\n",
        "user.withdraw(1000)\n",
        "user.check_balance()\n",
        "user.display_account_details()"
      ],
      "execution_count": null,
      "outputs": [
        {
          "output_type": "stream",
          "name": "stdout",
          "text": [
            "!!! Deposit Successfully !!!\n",
            "Your Current Balance is :  12845\n",
            "!!! Withdrawal Successfully !!!\n",
            "Your Current Balance is :  11845\n",
            "Your Current Balance is :  11845\n",
            "Account Number :  123456789\n",
            "Account Holder Name :  Ravi\n",
            "Balance :  11845\n"
          ]
        }
      ]
    },
    {
      "cell_type": "code",
      "metadata": {
        "colab": {
          "base_uri": "https://localhost:8080/"
        },
        "id": "_tgzIQCXtzxf",
        "outputId": "8e8459e0-a5c1-42b1-f49e-9bdab1900821"
      },
      "source": [
        "# Problem 04\n",
        "\n",
        "class Student:\n",
        "    \"\"\" Class to store Faculty Data \"\"\"\n",
        "    def __init__(self):\n",
        "        self.Name=\"\"\n",
        "        self.USN=\"\"\n",
        "        self.Marks=[]\n",
        " \n",
        "    def addStudent(self):\n",
        "        self.USN = input(\"Enter USN : \")\n",
        "        self.Name = input(\"Enter Name : \")\n",
        "        self.Marks = list(map(int, input(\"Enter Marks (space separated) : \").split()))\n",
        " \n",
        "    def displayStudent(self):\n",
        "        print(\"\\nName : \", self.Name) \n",
        "        print(\"USN : \", self.USN) \n",
        "        print(\"Marks : \", self.Marks) \n",
        "        \n",
        "S1 = Student() \n",
        "S1.addStudent() \n",
        "S1.displayStudent()"
      ],
      "execution_count": 6,
      "outputs": [
        {
          "output_type": "stream",
          "name": "stdout",
          "text": [
            "Enter USN : 20bcs110\n",
            "Enter Name : Ravi\n",
            "Enter Marks (space separated) : 27 29 25\n",
            "\n",
            "Name :  Ravi\n",
            "USN :  20bcs110\n",
            "Marks :  [27, 29, 25]\n"
          ]
        }
      ]
    },
    {
      "cell_type": "code",
      "metadata": {
        "id": "3n95ontmwRHX",
        "colab": {
          "base_uri": "https://localhost:8080/"
        },
        "outputId": "72f81424-fcd8-4ae7-8797-edbc03090c50"
      },
      "source": [
        "# Problem 05\n",
        "\n",
        "class Patients:\n",
        "  \n",
        "  def enter_information(self):\n",
        "    self.name = input(print(f\"Enter the name of patient : \"))\n",
        "    self.date_a = input(\"Enter the date of admission in format dd/mm/yyyy : \")\n",
        "    self.symptoms = []\n",
        "    self.sym_num = int(input(\"Enter the number of symptoms : \"))\n",
        "    for i in range(self.sym_num):\n",
        "      self.sym = input(f\"Enter the symptom {i+1} : \")\n",
        "      self.symptoms.append(self.sym)\n",
        "    self.oxygen_level = int(input(\"Enter the Oxygen Level : \"))\n",
        "    self.date_d = input(\"Enter the date of discharge : \")\n",
        "  \n",
        "  def severity(self,num_o,num_g):\n",
        "    if self.oxygen_level < 90:\n",
        "      print(f\"The Patient's condition is Severe and need Oxygen Support.\")\n",
        "    else:\n",
        "      print(f\"The Patient's Oxygen level is above 90 and can be treated in General Ward\")\n",
        "  \n",
        "  def severity_num(self,num_o,num_g):\n",
        "    if self.oxygen_level < 90:\n",
        "      return True\n",
        "    else:\n",
        "      return False\n",
        "  \n",
        "  def total_patients(num_o,num_g):\n",
        "    print(f\"Number of Oxygen Support Patients : {num_o}\")\n",
        "    print(f\"Number of General Ward Patients   : {num_g}\")\n",
        "    print(f\"Number of total Patients          : {num_g + num_o}\")\n",
        "\n",
        "\n",
        "  def display_details(self):\n",
        "    print(f\"Name of the patient          : {self.name}\")\n",
        "    print(f\"Date of admission of patient : {self.date_a}\")\n",
        "    print(f\"Symptoms of the patient      : {self.symptoms}\")\n",
        "    print(f\"Oxygen Level of the patient  : {self.oxygen_level}\")\n",
        "    print(f\"Date of discharge of patient : {self.date_d}\")\n",
        "\n",
        "\n",
        "num_o = 0\n",
        "num_g = 0\n",
        "num_patients = int(input(\"Enter the number of patients : \"))\n",
        "patients = []\n",
        "for i in range(num_patients):\n",
        "  patients.append(Patients())\n",
        "  print(f\"\\nEnter Patient {i+1} details \\n\")\n",
        "  patients[i].enter_information()\n",
        "  if patients[i].severity_num(num_o,num_g):\n",
        "      num_o += 1\n",
        "  else:\n",
        "    num_g += 1\n",
        "check = True\n",
        "while(check == True):\n",
        "  option = int(input(f\"\\n\\nChoose any option\\n1.Check Severity\\n2.Display statistics\\n3.Display Details of a Patient\\n\\n\"))\n",
        "  if option == 1:\n",
        "    num = int(input(f\"\\nEnter the Patient Number from {1} to {num_patients}\\n\"))\n",
        "    patients[num-1].severity(num_o,num_g)\n",
        "  elif option == 2:\n",
        "    Patients.total_patients(num_o,num_g)\n",
        "  elif option == 3:\n",
        "    num = int(input(f\"\\nEnter the Patient Number from {1} to {num_patients}\\n\"))\n",
        "    patients[num-1].display_details()\n",
        "  else:\n",
        "    print(\"Thank you.\")\n",
        "    check = False\n",
        "\n"
      ],
      "execution_count": 8,
      "outputs": [
        {
          "output_type": "stream",
          "name": "stdout",
          "text": [
            "Enter the number of patients : 2\n",
            "\n",
            "Enter Patient 1 details \n",
            "\n",
            "Enter the name of patient : \n",
            "Ranjan\n",
            "Enter the date of admission in format dd/mm/yyyy : 16/11/2020\n",
            "Enter the number of symptoms : 2\n",
            "Enter the symptom 1 : cold\n",
            "Enter the symptom 2 : fever\n",
            "Enter the Oxygen Level : 90\n",
            "Enter the date of discharge : 02/01/2021\n",
            "\n",
            "Enter Patient 2 details \n",
            "\n",
            "Enter the name of patient : \n",
            "Faiz\n",
            "Enter the date of admission in format dd/mm/yyyy : 12/11/2020\n",
            "Enter the number of symptoms : 3\n",
            "Enter the symptom 1 : fever\n",
            "Enter the symptom 2 : cold\n",
            "Enter the symptom 3 : headache\n",
            "Enter the Oxygen Level : 80\n",
            "Enter the date of discharge : 29/01/2021\n",
            "\n",
            "\n",
            "Choose any option\n",
            "1.Check Severity\n",
            "2.Display statistics\n",
            "3.Display Details of a Patient\n",
            "\n",
            "1\n",
            "\n",
            "Enter the Patient Number from 1 to 2\n",
            "1\n",
            "The Patient's Oxygen level is above 90 and can be treated in General Ward\n",
            "\n",
            "\n",
            "Choose any option\n",
            "1.Check Severity\n",
            "2.Display statistics\n",
            "3.Display Details of a Patient\n",
            "\n",
            "2\n",
            "Number of Oxygen Support Patients : 1\n",
            "Number of General Ward Patients   : 1\n",
            "Number of total Patients          : 2\n",
            "\n",
            "\n",
            "Choose any option\n",
            "1.Check Severity\n",
            "2.Display statistics\n",
            "3.Display Details of a Patient\n",
            "\n",
            "3\n",
            "\n",
            "Enter the Patient Number from 1 to 2\n",
            "2\n",
            "Name of the patient          : Faiz\n",
            "Date of admission of patient : 12/11/2020\n",
            "Symptoms of the patient      : ['fever', 'cold', 'headache']\n",
            "Oxygen Level of the patient  : 80\n",
            "Date of discharge of patient : 29/01/2021\n",
            "\n",
            "\n",
            "Choose any option\n",
            "1.Check Severity\n",
            "2.Display statistics\n",
            "3.Display Details of a Patient\n",
            "\n",
            "4\n",
            "Thank you.\n"
          ]
        }
      ]
    },
    {
      "cell_type": "code",
      "metadata": {
        "colab": {
          "base_uri": "https://localhost:8080/"
        },
        "id": "SOIS9m981HWV",
        "outputId": "46ec06ec-cda4-4648-86fa-3ca31581a4da"
      },
      "source": [
        "# Problem 06\n",
        "\n",
        "class Time:\n",
        "  def __init__(self,hours=00,minutes=00,seconds=00):\n",
        "    self.hours = hours\n",
        "    self.minutes = minutes\n",
        "    self.seconds = seconds\n",
        "\n",
        "  def display(self):\n",
        "    self.hours = str(self.hours).zfill(2)\n",
        "    self.minutes = str(self.minutes).zfill(2)\n",
        "    self.seconds = str(self.seconds).zfill(2)\n",
        "    print(f\"{self.hours:}:{self.minutes}:{self.seconds}\")\n",
        "\n",
        "t = Time()\n",
        "t.display()"
      ],
      "execution_count": null,
      "outputs": [
        {
          "output_type": "stream",
          "name": "stdout",
          "text": [
            "00:00:00\n"
          ]
        }
      ]
    },
    {
      "cell_type": "code",
      "metadata": {
        "colab": {
          "base_uri": "https://localhost:8080/"
        },
        "id": "MuWSsw63O__2",
        "outputId": "4f552efa-fedb-4d07-9703-d517894f41b2"
      },
      "source": [
        "# Problem 07\n",
        "\n",
        "class Student:\n",
        "  def __init__(self,Name,Age,rollno):\n",
        "    self.Name = Name\n",
        "    self.Age = Age\n",
        "    self.rollno = rollno\n",
        "\n",
        "  def compareAge(self,student):\n",
        "    if self.Age == student.Age:\n",
        "      print(\"Equal\")\n",
        "    else:\n",
        "      print(\"Not Equal\")\n",
        "\n",
        "std1 = Student(Name=\"Rahul\",Age=21,rollno=23)\n",
        "std2 = Student(Name=\"Rohit\",Age=22,rollno=74)\n",
        "\n",
        "# Using std1 as argument\n",
        "std2.compareAge(std1)\n",
        "\n",
        "# Using std2 as argument\n",
        "std1.compareAge(std2)"
      ],
      "execution_count": 2,
      "outputs": [
        {
          "output_type": "stream",
          "name": "stdout",
          "text": [
            "Not Equal\n",
            "Not Equal\n"
          ]
        }
      ]
    },
    {
      "cell_type": "code",
      "metadata": {
        "colab": {
          "base_uri": "https://localhost:8080/"
        },
        "id": "GN7lOvhuTd9m",
        "outputId": "f2919935-9364-4313-f89c-05d31c3719b0"
      },
      "source": [
        "# Problem 8\n",
        "\n",
        "class student:\n",
        "  sem = 3\n",
        "  institute = \"IIIT Dharwad\"\n",
        "  def __init__(self,name,usn):\n",
        "    self.name = name\n",
        "    self.usn  = usn\n",
        "\n",
        "  def display_i(self):\n",
        "    print(f\"Name : {self.name}\")\n",
        "    print(f\"USN  : {self.usn}\")\n",
        "  @classmethod\n",
        "  def display(cls):\n",
        "    print(f\"Sem       : {cls.sem}\")\n",
        "    print(f\"Institute : {cls.institute}\")\n",
        "  @staticmethod\n",
        "  def display_class_info():\n",
        "    print(\"The class variables are : sem,institute and the instance variables are name,usn of the class student\")\n",
        "s1 = student(\"Ravikant\",\"20BCS110\")\n",
        "s1.display_i()\n",
        "student.display()\n",
        "student.display_class_info()"
      ],
      "execution_count": 10,
      "outputs": [
        {
          "output_type": "stream",
          "name": "stdout",
          "text": [
            "Name : Ravikant\n",
            "USN  : 20BCS110\n",
            "Sem       : 3\n",
            "Institute : IIIT Dharwad\n",
            "The class variables are : sem,institute and the instance variables are name,usn of the class student\n"
          ]
        }
      ]
    },
    {
      "cell_type": "code",
      "metadata": {
        "colab": {
          "base_uri": "https://localhost:8080/"
        },
        "id": "Qfk0-X6-Z3JP",
        "outputId": "28468dce-986c-4cfd-f43e-85c01df64a01"
      },
      "source": [
        "# Problem 9\n",
        "\n",
        "class student:\n",
        "  def __init__(self,name,roll_no,sem,cpu,ram,hard_disk,display_d):\n",
        "    self.name = name\n",
        "    self.roll_no = roll_no\n",
        "    self.sem = sem\n",
        "    #creating an object for the inner class\n",
        "    self.lp = self.laptop(cpu,ram,hard_disk,display_d)\n",
        "  class laptop:\n",
        "    def __init__(self,cpu,ram,hard_disk,display_d):\n",
        "      self.cpu = cpu\n",
        "      self.ram = ram\n",
        "      self.hard_disk = hard_disk\n",
        "      self.display_d = display_d\n",
        "    def display(self):\n",
        "      print(\"Laptop specifications are : \")\n",
        "      print(f\"CPU                : {self.cpu}\")\n",
        "      print(f\"RAM                : {self.ram}\")\n",
        "      print(f\"Hard disk capacity : {self.hard_disk}\")\n",
        "      print(f\"Display Details    : {self.display_d}\\n\\n\")\n",
        "  \n",
        "  def student_details(self):\n",
        "    print(f\"Name    : {self.name}\")\n",
        "    print(f\"Roll No : {self.roll_no}\")\n",
        "    print(f\"sem     : {self.sem}\")\n",
        "    self.lp.display()\n",
        "\n",
        "\n",
        "s1 = student(\"John\",89,3,\"Intel i7 11th Gen\",\"16 GB\",\"512 GB SSD\",\"4K\")\n",
        "s1.student_details()\n",
        "s2 = student(\"Rohit\",19,3,\"AMD RYZEN 5\",\"8 GB\",\"512 GB SSD\",\"4K\")\n",
        "s2.student_details()"
      ],
      "execution_count": 11,
      "outputs": [
        {
          "output_type": "stream",
          "name": "stdout",
          "text": [
            "Name    : John\n",
            "Roll No : 89\n",
            "sem     : 3\n",
            "Laptop specifications are : \n",
            "CPU                : Intel i7 11th Gen\n",
            "RAM                : 16 GB\n",
            "Hard disk capacity : 512 GB SSD\n",
            "Display Details    : 4K\n",
            "\n",
            "\n",
            "Name    : Rohit\n",
            "Roll No : 19\n",
            "sem     : 3\n",
            "Laptop specifications are : \n",
            "CPU                : AMD RYZEN 5\n",
            "RAM                : 8 GB\n",
            "Hard disk capacity : 512 GB SSD\n",
            "Display Details    : 4K\n",
            "\n",
            "\n"
          ]
        }
      ]
    }
  ]
}