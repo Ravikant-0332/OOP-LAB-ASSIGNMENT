{
  "nbformat": 4,
  "nbformat_minor": 0,
  "metadata": {
    "colab": {
      "name": "Ravikant_20bcs110_OOPTask05.ipynb",
      "provenance": []
    },
    "kernelspec": {
      "name": "python3",
      "display_name": "Python 3"
    },
    "language_info": {
      "name": "python"
    }
  },
  "cells": [
    {
      "cell_type": "code",
      "metadata": {
        "id": "s1DCdt-XYYxz"
      },
      "source": [
        "from abc import ABC, abstractmethod\n",
        "from math import pi, pow"
      ],
      "execution_count": 2,
      "outputs": []
    },
    {
      "cell_type": "code",
      "metadata": {
        "colab": {
          "base_uri": "https://localhost:8080/"
        },
        "id": "m63wonVxY4rZ",
        "outputId": "c9258867-eea0-4a65-ef41-ef6ab142ad85"
      },
      "source": [
        "# Problem 01\n",
        "\n",
        "class Shape:\n",
        "\n",
        "    @abstractmethod\n",
        "    def area(self):\n",
        "        pass\n",
        "\n",
        "class Circle(Shape):\n",
        "    def __init__(self, radius):\n",
        "        self.radius = radius\n",
        "\n",
        "    def area(self):\n",
        "        return (pi*pow(self.radius,2))\n",
        "\n",
        "class Square(Shape):\n",
        "    def __init__(self, edge):\n",
        "        self.edge = edge\n",
        "\n",
        "    def area(self):\n",
        "        return pow(self.edge, 2)\n",
        "\n",
        "class Rectangle(Shape):\n",
        "    def __init__(self, length, breadth):\n",
        "        self.length = length\n",
        "        self.breadth = breadth\n",
        "\n",
        "    def area(self):\n",
        "        return (self.length*self.breadth)\n",
        "\n",
        "\n",
        "circle = Circle(5)\n",
        "square = Square(5)\n",
        "rectangle = Rectangle(5, 10)\n",
        "\n",
        "print(\"Area of Circle : \", circle.area())\n",
        "print(\"Area of Square : \", square.area())\n",
        "print(\"Area of Rectangle : \", rectangle.area())\n"
      ],
      "execution_count": 3,
      "outputs": [
        {
          "output_type": "stream",
          "name": "stdout",
          "text": [
            "Area of Circle :  78.53981633974483\n",
            "Area of Square :  25.0\n",
            "Area of Rectangle :  50\n"
          ]
        }
      ]
    },
    {
      "cell_type": "code",
      "metadata": {
        "colab": {
          "base_uri": "https://localhost:8080/"
        },
        "id": "MAq4doZsY7SM",
        "outputId": "8365d75a-431b-4ef8-8b41-5d6098999647"
      },
      "source": [
        "# Problem 02\n",
        "\n",
        "class Travel:\n",
        "    def __init__(self, passengerCount, distance, mode):\n",
        "        self.__no_of_passengers = passengerCount\n",
        "        self.travel_distance = distance\n",
        "        self.mode_of_transportation = mode\n",
        "\n",
        "    def getNoOfPassengers(self):\n",
        "        return self.__no_of_passengers\n",
        "\n",
        "class Bus(Travel):\n",
        "    def __init__(self, passengers, distance):\n",
        "        super().__init__(passengers, distance, \"Bus\")\n",
        "\n",
        "    def cost_of_trip(self):\n",
        "        return f\"The Cost of Travelling from Dharwad to Belagavi via {self.mode_of_transportation} for {self.getNoOfPassengers()} Passengers is {self.getNoOfPassengers()*100}\"\n",
        "\n",
        "class Train(Travel):\n",
        "    def __init__(self, passengers, distance):\n",
        "        super().__init__(passengers, distance, \"Train\")\n",
        "\n",
        "    def cost_of_trip(self):\n",
        "        return f\"The Cost of Travelling from Dharwad to Belagavi via {self.mode_of_transportation} for {self.getNoOfPassengers()} Passengers is {self.getNoOfPassengers()*60}\"\n",
        "\n",
        "bus = Bus(11, 120)\n",
        "train = Train(11, 120)\n",
        "\n",
        "print(bus.cost_of_trip())\n",
        "print(train.cost_of_trip())\n",
        "\n"
      ],
      "execution_count": 4,
      "outputs": [
        {
          "output_type": "stream",
          "name": "stdout",
          "text": [
            "The Cost of Travelling from Dharwad to Belagavi via Bus for 11 Passengers is 1100\n",
            "The Cost of Travelling from Dharwad to Belagavi via Train for 11 Passengers is 660\n"
          ]
        }
      ]
    },
    {
      "cell_type": "code",
      "metadata": {
        "colab": {
          "base_uri": "https://localhost:8080/"
        },
        "id": "lgW170GIY9Dw",
        "outputId": "48d11c33-43db-41da-b622-c2bcbb72f9e9"
      },
      "source": [
        "# Problem 03\n",
        "\n",
        "class Car:\n",
        "    def __init__(self, modelNo):\n",
        "        self.modelNumber = modelNo\n",
        "\n",
        "c1 = Car('XYZ123')\n",
        "c2 = Car('ABC987')\n",
        "\n",
        "print(f\"C1 Model Number {c1.modelNumber} and C2 Model Number {c2.modelNumber}  (Before Swap)\")\n",
        "c1.modelNumber, c2.modelNumber = c2.modelNumber, c1.modelNumber\n",
        "print(f\"C1 Model Number {c1.modelNumber} and C2 Model Number {c2.modelNumber}  (After Swap)\")"
      ],
      "execution_count": 5,
      "outputs": [
        {
          "output_type": "stream",
          "name": "stdout",
          "text": [
            "C1 Model Number XYZ123 and C2 Model Number ABC987  (Before Swap)\n",
            "C1 Model Number ABC987 and C2 Model Number XYZ123  (After Swap)\n"
          ]
        }
      ]
    }
  ]
}