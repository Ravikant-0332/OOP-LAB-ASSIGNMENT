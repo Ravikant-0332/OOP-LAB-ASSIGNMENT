{
  "nbformat": 4,
  "nbformat_minor": 0,
  "metadata": {
    "colab": {
      "name": "Ravikant_20bcs110_OOPTask01.ipynb",
      "provenance": [],
      "collapsed_sections": []
    },
    "kernelspec": {
      "name": "python3",
      "display_name": "Python 3"
    },
    "language_info": {
      "name": "python"
    }
  },
  "cells": [
    {
      "cell_type": "code",
      "metadata": {
        "colab": {
          "base_uri": "https://localhost:8080/"
        },
        "id": "bUORwegmOpAR",
        "outputId": "604145ae-8d12-410d-914b-0cd176552c59"
      },
      "source": [
        "# Problem 01\n",
        "\n",
        "def isLeapYear(year):\n",
        "  if (year % 4) == 0:  \n",
        "   if (year % 100) == 0:  \n",
        "       if (year % 400) == 0:  \n",
        "           print(year,\" is a Leap Year\")  \n",
        "       else:  \n",
        "           print(year,\" is not a Leap Year\")  \n",
        "   else:  \n",
        "       print(year,\" is a Leap Year\")  \n",
        "  else:  \n",
        "    print(year,\" is not a Leap Year\") \n",
        "\n",
        "if __name__ == \"__main__\":\n",
        "  year = int(input(\"Enter Year :\"))\n",
        "  isLeapYear(year)"
      ],
      "execution_count": null,
      "outputs": [
        {
          "output_type": "stream",
          "name": "stdout",
          "text": [
            "Enter Year :2016\n",
            "2016  is a Leap Year\n"
          ]
        }
      ]
    },
    {
      "cell_type": "code",
      "metadata": {
        "colab": {
          "base_uri": "https://localhost:8080/"
        },
        "id": "jm592m_3TPCB",
        "outputId": "9c8b139c-6909-44d9-b94b-c4174aa009a7"
      },
      "source": [
        "# Problem 02\n",
        "\n",
        "n = int(input(\"Enter an Positive Integer :\"))\n",
        "if n%2 == 1:\n",
        "  print(\"Weird\")\n",
        "else:\n",
        "  if n in range(6,20+1):\n",
        "    print(\"Weird\")\n",
        "  else:\n",
        "    print(\"Not Weird\")"
      ],
      "execution_count": null,
      "outputs": [
        {
          "output_type": "stream",
          "name": "stdout",
          "text": [
            "Enter an Positive Integer :8\n",
            "Weird\n"
          ]
        }
      ]
    },
    {
      "cell_type": "code",
      "metadata": {
        "colab": {
          "base_uri": "https://localhost:8080/"
        },
        "id": "7hiPO8KyU3ye",
        "outputId": "44bbc577-150a-4d21-e154-86c8a247d11f"
      },
      "source": [
        "# Problem 03\n",
        "\n",
        "Arrivals = list(input(\"Enter Names of Guests (Space Separated) : \").split())\n",
        "person = input(\"Enter Name of Person \")\n",
        "mid = len(Arrivals)//2\n",
        "if person in Arrivals[mid:-1]:\n",
        "  print(\"Late\")\n",
        "else:\n",
        "  print(\"On Time\")"
      ],
      "execution_count": null,
      "outputs": [
        {
          "output_type": "stream",
          "name": "stdout",
          "text": [
            "Enter Names of Guests (Space Separated) : hardik rahul virat rishab mahi rohit rahane\n",
            "Enter Name of Personrohit\n",
            "Late\n"
          ]
        }
      ]
    },
    {
      "cell_type": "code",
      "metadata": {
        "id": "Nr-FNZ5SaKMs",
        "colab": {
          "base_uri": "https://localhost:8080/"
        },
        "outputId": "72a03b58-4e8b-487b-83bf-c59ce43ceb69"
      },
      "source": [
        "# Problem 04\n",
        "\n",
        "doc_list = list(input('Enter Names of Articles (Comma Separated) : ').split(','))\n",
        "word = input('Enter the Specific Word : ')\n",
        "\n",
        "for article in doc_list:\n",
        "  if article.upper().find(word.upper()) == -1:\n",
        "    print(article)\n",
        "\n"
      ],
      "execution_count": null,
      "outputs": [
        {
          "output_type": "stream",
          "name": "stdout",
          "text": [
            "Enter Names of Articles (Comma Separated) : The learn Python Challenge Rohit,They bought a car,baglore\n",
            "Enter the Specific Word : they\n",
            "The learn Python Challenge Rohit\n",
            "baglore\n"
          ]
        }
      ]
    },
    {
      "cell_type": "code",
      "metadata": {
        "colab": {
          "base_uri": "https://localhost:8080/"
        },
        "id": "CuzTfzTOnxkQ",
        "outputId": "ba23d533-3c38-4a26-bacb-1c5494368c61"
      },
      "source": [
        "# Problem 05\n",
        "\n",
        "def grossPay(BP):\n",
        "  return 1.6*BP\n",
        "BP = float(input('Enter Basic Pay : '))\n",
        "print('Gross Pay is : ',grossPay(BP))"
      ],
      "execution_count": null,
      "outputs": [
        {
          "output_type": "stream",
          "name": "stdout",
          "text": [
            "Enter Basic Pay : 100\n",
            "Gross Pay is :  160.0\n"
          ]
        }
      ]
    }
  ]
}