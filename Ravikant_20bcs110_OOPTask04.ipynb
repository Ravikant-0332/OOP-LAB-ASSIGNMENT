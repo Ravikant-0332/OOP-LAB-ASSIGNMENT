{
  "nbformat": 4,
  "nbformat_minor": 0,
  "metadata": {
    "colab": {
      "name": "OOP_Lab_Task_04.ipynb",
      "provenance": [],
      "collapsed_sections": []
    },
    "kernelspec": {
      "name": "python3",
      "display_name": "Python 3"
    },
    "language_info": {
      "name": "python"
    }
  },
  "cells": [
    {
      "cell_type": "code",
      "metadata": {
        "colab": {
          "base_uri": "https://localhost:8080/"
        },
        "id": "v2ZRMfgiKqeG",
        "outputId": "30551745-0b9c-427e-9c47-2089cd552b9c"
      },
      "source": [
        "# problem 1\n",
        "class Node:\n",
        "    def __init__(self, val, next):\n",
        "        self.value = val\n",
        "        self.next = next\n",
        "\n",
        "    def __del__(self):\n",
        "        print(\"The Node with value\", self.value, \"deleted\")\n",
        "\n",
        "class Stack:\n",
        "    def __init__(self):\n",
        "        self.head = None\n",
        "        self.tail = self.head\n",
        "\n",
        "    def is_empty(self):\n",
        "        return self.head == None and self.tail == None\n",
        "\n",
        "    def push(self, val):\n",
        "        new_node = Node(val, None)\n",
        "        if self.is_empty():\n",
        "            self.head = new_node\n",
        "            self.tail = self.head\n",
        "        else:\n",
        "            self.tail.next = new_node\n",
        "            self.tail = self.tail.next\n",
        "\n",
        "    def pop(self):\n",
        "        iter = self.head\n",
        "        while True:\n",
        "            if iter.next != self.tail:\n",
        "                iter = iter.next\n",
        "            else:\n",
        "                break\n",
        "        val = iter.next.value\n",
        "        del iter.next\n",
        "        iter.next = None\n",
        "        self.tail = iter\n",
        "        return val\n",
        "\n",
        "\n",
        "    def disp(self):\n",
        "        iter = self.head\n",
        "        if not self.is_empty():\n",
        "            while iter!=None:\n",
        "                print(iter.value, end=\" \")\n",
        "                iter = iter.next\n",
        "        else:\n",
        "            print(\"Empty stack\")\n",
        "\n",
        "s = Stack()\n",
        "print(s.is_empty())\n",
        "s.push(8)\n",
        "print(s.is_empty())\n",
        "s.push(7)\n",
        "s.push(6)\n",
        "s.push(5)\n",
        "s.push(4)\n",
        "print(\"popping:\", s.pop())\n",
        "s.disp()"
      ],
      "execution_count": 1,
      "outputs": [
        {
          "output_type": "stream",
          "name": "stdout",
          "text": [
            "True\n",
            "False\n",
            "The Node with value 4 deleted\n",
            "popping: 4\n",
            "8 7 6 5 "
          ]
        }
      ]
    },
    {
      "cell_type": "code",
      "metadata": {
        "colab": {
          "base_uri": "https://localhost:8080/"
        },
        "id": "7hIIeV2aj2Ot",
        "outputId": "19a5752e-20e7-4902-fd4f-79c9f08b67e2"
      },
      "source": [
        "#problem 2\n",
        "\n",
        "#using parametrized constructor\n",
        "class Rectangle():\n",
        "    def init(self, l, w):\n",
        "        self.length = l\n",
        "        self.width  = w\n",
        "\n",
        "    def rectangle_area(self):\n",
        "        return self.length*self.width\n",
        "\n",
        "newRectangle = Rectangle()\n",
        "newRectangle.length=100\n",
        "newRectangle.width=60\n",
        "print(newRectangle.rectangle_area())"
      ],
      "execution_count": 2,
      "outputs": [
        {
          "output_type": "stream",
          "name": "stdout",
          "text": [
            "6000\n"
          ]
        }
      ]
    },
    {
      "cell_type": "code",
      "metadata": {
        "colab": {
          "base_uri": "https://localhost:8080/"
        },
        "id": "tCHr8a8qkHUW",
        "outputId": "41edcdf5-e5b2-4b36-9c7e-44590e9fcd82"
      },
      "source": [
        "# using default constructor\n",
        "\n",
        "class Area:\n",
        "\n",
        "  def __init__(self):\n",
        "    self.length = 100\n",
        "    self.breadth = 60\n",
        "\n",
        "  def area(self):\n",
        "    print(\"area = \", self.length*self.breadth)\n",
        "\n",
        "obj = Area()\n",
        "obj.area()"
      ],
      "execution_count": 3,
      "outputs": [
        {
          "output_type": "stream",
          "name": "stdout",
          "text": [
            "area =  6000\n"
          ]
        }
      ]
    },
    {
      "cell_type": "code",
      "metadata": {
        "colab": {
          "base_uri": "https://localhost:8080/"
        },
        "id": "HRg7nKQnkNna",
        "outputId": "beb58564-b584-41e1-84e2-b63217caa7fb"
      },
      "source": [
        "#problem 3\n",
        "class Queue:\n",
        "    def __init__(self):\n",
        "        self.queue = []\n",
        "\n",
        "    def isEmpty(self):\n",
        "        return self.queue == []\n",
        "\n",
        "    def enqueue(self, data):\n",
        "        self.queue.append(data)\n",
        "\n",
        "    def dequeue(self):\n",
        "        return self.queue.pop(0)\n",
        "\n",
        "    def displayQueue(self):\n",
        "        print(f\"Queue : {self.queue}\")\n",
        "\n",
        "    def __del__(self):\n",
        "        print(\"Queue deleted\")\n",
        "\n",
        "q = Queue()\n",
        "for i in range(0, 20):\n",
        "    q.enqueue(i)\n",
        "\n",
        "q.displayQueue()\n",
        "\n",
        "for i in range(1, 10):\n",
        "    print(f\"The Value Dequeued : {q.dequeue()}\")\n",
        "\n",
        "q.displayQueue()"
      ],
      "execution_count": 4,
      "outputs": [
        {
          "output_type": "stream",
          "name": "stdout",
          "text": [
            "Queue : [0, 1, 2, 3, 4, 5, 6, 7, 8, 9, 10, 11, 12, 13, 14, 15, 16, 17, 18, 19]\n",
            "The Value Dequeued : 0\n",
            "The Value Dequeued : 1\n",
            "The Value Dequeued : 2\n",
            "The Value Dequeued : 3\n",
            "The Value Dequeued : 4\n",
            "The Value Dequeued : 5\n",
            "The Value Dequeued : 6\n",
            "The Value Dequeued : 7\n",
            "The Value Dequeued : 8\n",
            "Queue : [9, 10, 11, 12, 13, 14, 15, 16, 17, 18, 19]\n"
          ]
        }
      ]
    }
  ]
}