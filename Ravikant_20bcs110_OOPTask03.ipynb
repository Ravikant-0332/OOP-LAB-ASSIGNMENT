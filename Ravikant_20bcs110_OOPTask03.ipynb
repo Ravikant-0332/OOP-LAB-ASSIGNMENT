{
  "nbformat": 4,
  "nbformat_minor": 0,
  "metadata": {
    "colab": {
      "name": "oopLab_16_sep.ipynb",
      "provenance": [],
      "collapsed_sections": []
    },
    "kernelspec": {
      "name": "python3",
      "display_name": "Python 3"
    },
    "language_info": {
      "name": "python"
    }
  },
  "cells": [
    {
      "cell_type": "code",
      "metadata": {
        "id": "FJR5bGmPlQkt",
        "colab": {
          "base_uri": "https://localhost:8080/"
        },
        "outputId": "5f17a73c-720a-419d-dd2a-06178613201a"
      },
      "source": [
        "# Problem 01\n",
        "\n",
        "class Student:\n",
        "    def __init__(self):\n",
        "        super().__init__()\n",
        "        self.Name=''\n",
        "        self.Reg_No=''\n",
        "        self.Age=''\n",
        "        self.Gender=''\n",
        "        self.Branch=''\n",
        "        self.sem=''\n",
        "\n",
        "    def readData(self):\n",
        "        self.Name = input(\"Enter Name : \")\n",
        "        self.Reg_No = input(\"Enter Reg_No : \")\n",
        "        self.Age = input(\"Enter Age : \")\n",
        "        self.Gender = input(\"Enter Gender : \")\n",
        "        self.Branch = input(\"Enter Branch : \")\n",
        "        self.Sem = input(\"Enter Sem : \")\n",
        "\n",
        "    def displayData(self):\n",
        "        print(\"\\n>>>___ Student's Details ___<<<\")\n",
        "        print(\"Name - \",self.Name)\n",
        "        print(\"Reg_No - \",self.Reg_No)\n",
        "        print(\"Age - \",self.Age)\n",
        "        print(\"Gender - \",self.Gender)\n",
        "        print(\"Branch - \",self.Branch)\n",
        "        print(\"Sem - \",self.Sem)\n",
        "\n",
        "class StudentResultInfo(Student):\n",
        "    def __init__(self):\n",
        "        self.total_marks=None\n",
        "        self.percentage=None\n",
        "        self.grade=None\n",
        "        \n",
        "    def setData(self):\n",
        "        self.readData()\n",
        "        self.total_marks=int(input(\"Enter Total Marks : \"))\n",
        "        self.percentage=int(input(\"Enter Percentage (don't include % sign) : \"))\n",
        "        self.grade=input(\"Enter Grade : \")\n",
        "        \n",
        "    def putData(self):\n",
        "        self.displayData()\n",
        "        print(\"Total Marks : \",self.total_marks)\n",
        "        print(\"Percentage : \",self.percentage,\"%\")\n",
        "        print(\"Grade : \",self.grade)\n",
        "\n",
        "s1=StudentResultInfo()\n",
        "s1.setData()\n",
        "s1.putData()\n"
      ],
      "execution_count": 1,
      "outputs": [
        {
          "output_type": "stream",
          "name": "stdout",
          "text": [
            "Enter Name : Ravi\n",
            "Enter Reg_No : 20bcs110\n",
            "Enter Age : 21\n",
            "Enter Gender : M\n",
            "Enter Branch : CSE\n",
            "Enter Sem : 3\n",
            "Enter Total Marks : 79\n",
            "Enter Percentage (don't include % sign) : 79\n",
            "Enter Grade : B\n",
            "\n",
            ">>>___ Student's Details ___<<<\n",
            "Name -  Ravi\n",
            "Reg_No -  20bcs110\n",
            "Age -  21\n",
            "Gender -  M\n",
            "Branch -  CSE\n",
            "Sem -  3\n",
            "Total Marks :  79\n",
            "Percentage :  79 %\n",
            "Grade :  B\n"
          ]
        }
      ]
    },
    {
      "cell_type": "code",
      "metadata": {
        "id": "_ty3uf8ZyTqE",
        "colab": {
          "base_uri": "https://localhost:8080/"
        },
        "outputId": "20b38e88-a983-4061-d8ca-b73dc2a5fe40"
      },
      "source": [
        "# Problem 02\n",
        "\n",
        "class PDF:\n",
        "    def __init__(self):\n",
        "        self.creator=None\n",
        "        self.desc=None\n",
        "        self.file_size=None\n",
        "\n",
        "    def getPDF(self):\n",
        "        self.creator=input(\"Enter the name of creator of the file : \")\n",
        "        self.desc=input(\"Enter Description of file : \")\n",
        "        self.file_size=int(input(\"Enter File Size (in KB) : \"))\n",
        "\n",
        "class Pictures(PDF):\n",
        "    def __init__(self):\n",
        "        super().__init__()\n",
        "        self.dimensions=None\n",
        "\n",
        "    def getPictures(self):\n",
        "        self.getPDF()\n",
        "        self.dimensions=list(map(int,input(\"Enter Dimensions of Picture (in W H; space separated) : \").split()))\n",
        "\n",
        "class NewFeatures(Pictures):\n",
        "    def __init__(self,file_object=None):\n",
        "        self.max_file_size = 80\n",
        "        self.max_dimensions = [1600,900]\n",
        "        self.file_object=file_object if file_object != None else self\n",
        "        if type(self.file_object) == NewFeatures:\n",
        "            self.getPDF()\n",
        "\n",
        "    def putPDF(self):\n",
        "        print(\"Creator - \",self.file_object.creator)\n",
        "        print(\"Description - \",self.file_object.desc)\n",
        "        print(\"File Size - \",self.file_object.file_size)\n",
        "\n",
        "    def putPictures(self):\n",
        "        self.putPDF()\n",
        "        print(\"Dimensions - \",self.file_object.dimensions)\n",
        "\n",
        "    def check_file_size(self):\n",
        "        if self.file_object.file_size > self.max_file_size:\n",
        "            print(f\"\\nFile Size Exceeded; Threshold is {self.max_file_size}KB and File size is {self.file_object.file_size}KB\")\n",
        "        else:\n",
        "            print(f\"\\nFile Size - Good; Threshold is {self.max_file_size}KB and File size is {self.file_object.file_size}KB\")\n",
        "\n",
        "    def check_dimensions(self):\n",
        "        if self.file_object.dimensions[0] > self.max_dimensions[0] or self.file_object.dimensions[1] > self.max_dimensions[1]:\n",
        "            print(f\"\\nFile Dimension Exceeded; Threshold is {self.max_dimensions}px and File size is {self.file_object.dimensions}px\")\n",
        "        else:\n",
        "            print(f\"\\nFile Dimension - Good; Threshold is {self.max_dimensions}px and File size is {self.file_object.dimensions}px\")\n",
        "\n",
        "\n",
        "pdf = PDF()\n",
        "pdf.getPDF()\n",
        "print()\n",
        "new_pdf = NewFeatures(pdf)\n",
        "new_pdf.putPDF()\n",
        "new_pdf.check_file_size()\n",
        "\n",
        "print()\n",
        "picture = Pictures()\n",
        "picture.getPictures()\n",
        "print()\n",
        "new_picture = NewFeatures(picture)\n",
        "new_picture.putPictures()\n",
        "new_picture.check_file_size()\n",
        "new_picture.check_dimensions()"
      ],
      "execution_count": 2,
      "outputs": [
        {
          "output_type": "stream",
          "name": "stdout",
          "text": [
            "Enter the name of creator of the file : Ravi\n",
            "Enter Description of file : PDF File\n",
            "Enter File Size (in KB) : 92\n",
            "\n",
            "Creator -  Ravi\n",
            "Description -  PDF File\n",
            "File Size -  92\n",
            "\n",
            "File Size Exceeded; Threshold is 80KB and File size is 92KB\n",
            "\n",
            "Enter the name of creator of the file : Ravi\n",
            "Enter Description of file : Picture File\n",
            "Enter File Size (in KB) : 78\n",
            "Enter Dimensions of Picture (in W H; space separated) : 900 1600\n",
            "\n",
            "Creator -  Ravi\n",
            "Description -  Picture File\n",
            "File Size -  78\n",
            "Dimensions -  [900, 1600]\n",
            "\n",
            "File Size - Good; Threshold is 80KB and File size is 78KB\n",
            "\n",
            "File Dimension Exceeded; Threshold is [1600, 900]px and File size is [900, 1600]px\n"
          ]
        }
      ]
    },
    {
      "cell_type": "code",
      "metadata": {
        "colab": {
          "base_uri": "https://localhost:8080/"
        },
        "id": "55ioslrgGDok",
        "outputId": "91786ea5-b8e9-46e1-cd0f-51f91a3eb3ed"
      },
      "source": [
        "# Problem 03\n",
        "\n",
        "class Vehicle:\n",
        "    def __init__(self,mileage,capacity):\n",
        "        self.mileage=mileage\n",
        "        self.capacity=capacity\n",
        "\n",
        "    def bus_fare(self):\n",
        "        return self.capacity*100\n",
        "\n",
        "class Bus(Vehicle):\n",
        "    def __init__(self,mileage=40, capacity=50):\n",
        "        super().__init__(mileage,capacity)\n",
        "        self.final_amount = 1.1*self.bus_fare()\n",
        "\n",
        "    def get_final_amount(self):\n",
        "        return self.final_amount\n",
        "\n",
        "b = Bus()\n",
        "print(b.get_final_amount())"
      ],
      "execution_count": 3,
      "outputs": [
        {
          "output_type": "stream",
          "name": "stdout",
          "text": [
            "5500.0\n"
          ]
        }
      ]
    }
  ]
}